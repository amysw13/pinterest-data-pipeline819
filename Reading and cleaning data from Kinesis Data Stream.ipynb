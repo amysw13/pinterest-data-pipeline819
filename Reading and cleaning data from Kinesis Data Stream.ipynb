{
 "cells": [
  {
   "cell_type": "markdown",
   "metadata": {
    "application/vnd.databricks.v1+cell": {
     "cellMetadata": {},
     "inputWidgets": {},
     "nuid": "7b3651ac-a4a5-4d08-b62a-f5b7e99758ff",
     "showTitle": false,
     "title": ""
    }
   },
   "source": [
    "# Reading data streams with Kinesis"
   ]
  },
  {
   "cell_type": "code",
   "execution_count": null,
   "metadata": {
    "application/vnd.databricks.v1+cell": {
     "cellMetadata": {
      "byteLimit": 2048000,
      "rowLimit": 10000
     },
     "inputWidgets": {},
     "nuid": "a57b9e0a-c5a7-49b7-82d1-cef6d6b303e4",
     "showTitle": false,
     "title": ""
    }
   },
   "outputs": [],
   "source": [
    "from pyspark.sql.types import *\n",
    "from pyspark.sql.functions import *\n",
    "import urllib\n",
    "\n",
    "# Define the path to the Delta table\n",
    "delta_table_path = \"dbfs:/user/hive/warehouse/authentication_credentials\"\n",
    "\n",
    "# Read the Delta table to a Spark DataFrame\n",
    "aws_keys_df = spark.read.format(\"delta\").load(delta_table_path)"
   ]
  },
  {
   "cell_type": "code",
   "execution_count": null,
   "metadata": {
    "application/vnd.databricks.v1+cell": {
     "cellMetadata": {
      "byteLimit": 2048000,
      "rowLimit": 10000
     },
     "inputWidgets": {},
     "nuid": "6358e2cd-95a9-4035-812d-dd29ae1c1877",
     "showTitle": false,
     "title": ""
    }
   },
   "outputs": [],
   "source": [
    "# Get the AWS access key and secret key from the spark dataframe\n",
    "ACCESS_KEY = aws_keys_df.select('Access key ID').collect()[0]['Access key ID']\n",
    "SECRET_KEY = aws_keys_df.select('Secret access key').collect()[0]['Secret access key']\n",
    "# Encode the secrete key\n",
    "ENCODED_SECRET_KEY = urllib.parse.quote(string=SECRET_KEY, safe=\"\")"
   ]
  },
  {
   "cell_type": "code",
   "execution_count": null,
   "metadata": {
    "application/vnd.databricks.v1+cell": {
     "cellMetadata": {
      "byteLimit": 2048000,
      "implicitDf": true,
      "rowLimit": 10000
     },
     "inputWidgets": {},
     "nuid": "8a5e7cd4-5fbc-4a9e-a24d-dbe2e9c4833d",
     "showTitle": false,
     "title": ""
    }
   },
   "outputs": [],
   "source": [
    "%sql\n",
    "SET spark.databricks.delta.formatCheck.enabled=false"
   ]
  },
  {
   "cell_type": "markdown",
   "metadata": {
    "application/vnd.databricks.v1+cell": {
     "cellMetadata": {
      "byteLimit": 2048000,
      "rowLimit": 10000
     },
     "inputWidgets": {},
     "nuid": "916c73d7-c610-4c9a-98aa-32b2abbaba11",
     "showTitle": false,
     "title": ""
    }
   },
   "source": [
    "## Reading data from Kinesis Data Streams\n"
   ]
  },
  {
   "cell_type": "code",
   "execution_count": null,
   "metadata": {
    "application/vnd.databricks.v1+cell": {
     "cellMetadata": {
      "byteLimit": 2048000,
      "rowLimit": 10000
     },
     "inputWidgets": {},
     "nuid": "6bdc6608-bec2-4134-9e90-a2f6430885f3",
     "showTitle": false,
     "title": ""
    }
   },
   "outputs": [],
   "source": [
    "pin_df_stream = spark \\\n",
    ".readStream \\\n",
    ".format('kinesis') \\\n",
    ".option('streamName','streaming-124714cdee67-pin') \\\n",
    ".option('initialPosition','earliest') \\\n",
    ".option('region','us-east-1') \\\n",
    ".option('awsAccessKey', ACCESS_KEY) \\\n",
    ".option('awsSecretKey', SECRET_KEY) \\\n",
    ".load()"
   ]
  },
  {
   "cell_type": "code",
   "execution_count": null,
   "metadata": {
    "application/vnd.databricks.v1+cell": {
     "cellMetadata": {
      "byteLimit": 2048000,
      "rowLimit": 10000
     },
     "inputWidgets": {},
     "nuid": "75829ede-f531-4daa-8d2b-9a6716eb6def",
     "showTitle": false,
     "title": ""
    }
   },
   "outputs": [],
   "source": [
    "display(pin_df_stream)\n",
    "pin_df = pin_df_stream.selectExpr(\"CAST(data as STRING)\")\n",
    "display(pin_df)"
   ]
  },
  {
   "cell_type": "markdown",
   "metadata": {
    "application/vnd.databricks.v1+cell": {
     "cellMetadata": {},
     "inputWidgets": {},
     "nuid": "226a0404-f2ea-4a10-8f4b-c64c705fb7f7",
     "showTitle": false,
     "title": ""
    }
   },
   "source": [
    "Parse string data into dataframe\n"
   ]
  },
  {
   "cell_type": "code",
   "execution_count": null,
   "metadata": {
    "application/vnd.databricks.v1+cell": {
     "cellMetadata": {
      "byteLimit": 2048000,
      "rowLimit": 10000
     },
     "inputWidgets": {},
     "nuid": "ab983416-4def-4a0a-a8b7-d601981bb2db",
     "showTitle": false,
     "title": ""
    }
   },
   "outputs": [],
   "source": [
    "pin_df = pin_df.select(json_tuple(col(\"data\"),\"index\",\"unique_id\", \"title\", \"description\", \"poster_name\", \"follower_count\", \"tag_list\", \"is_image_or_video\", \"image_src\", \"downloaded\", \"save_location\", \"category\")) \\\n",
    "    .toDF(\"index\",\"unique_id\", \"title\", \"description\", \"poster_name\", \"follower_count\", \"tag_list\", \"is_image_or_video\", \"image_src\", \"downloaded\", \"save_location\", \"category\")\n",
    "\n",
    "display(pin_df)"
   ]
  },
  {
   "cell_type": "code",
   "execution_count": null,
   "metadata": {
    "application/vnd.databricks.v1+cell": {
     "cellMetadata": {
      "byteLimit": 2048000,
      "rowLimit": 10000
     },
     "inputWidgets": {},
     "nuid": "5a33a3d7-cf83-458d-a70a-b64bb4d34837",
     "showTitle": false,
     "title": ""
    }
   },
   "outputs": [],
   "source": [
    "geo_df_stream = spark \\\n",
    ".readStream \\\n",
    ".format('kinesis') \\\n",
    ".option('streamName','streaming-124714cdee67-geo') \\\n",
    ".option('initialPosition','earliest') \\\n",
    ".option('region','us-east-1') \\\n",
    ".option('awsAccessKey', ACCESS_KEY) \\\n",
    ".option('awsSecretKey', SECRET_KEY) \\\n",
    ".load()"
   ]
  },
  {
   "cell_type": "code",
   "execution_count": null,
   "metadata": {
    "application/vnd.databricks.v1+cell": {
     "cellMetadata": {
      "byteLimit": 2048000,
      "rowLimit": 10000
     },
     "inputWidgets": {},
     "nuid": "1655c7fa-e494-4805-95b8-c838ba442d76",
     "showTitle": false,
     "title": ""
    }
   },
   "outputs": [],
   "source": [
    "display(geo_df_stream)\n",
    "geo_df = geo_df_stream.selectExpr(\"CAST(data as STRING)\")\n",
    "display(geo_df)"
   ]
  },
  {
   "cell_type": "code",
   "execution_count": null,
   "metadata": {
    "application/vnd.databricks.v1+cell": {
     "cellMetadata": {
      "byteLimit": 2048000,
      "rowLimit": 10000
     },
     "inputWidgets": {},
     "nuid": "e5568e66-420a-4a32-bae9-c9503d60d25b",
     "showTitle": false,
     "title": ""
    }
   },
   "outputs": [],
   "source": [
    "geo_df = geo_df.select(json_tuple(col(\"data\"),\"ind\",\"timestamp\", \"latitude\", \"longitude\", \"country\")) \\\n",
    "    .toDF(\"ind\",\"timestamp\", \"latitude\", \"longitude\", \"country\")\n",
    "\n",
    "display(geo_df)"
   ]
  },
  {
   "cell_type": "code",
   "execution_count": null,
   "metadata": {
    "application/vnd.databricks.v1+cell": {
     "cellMetadata": {
      "byteLimit": 2048000,
      "rowLimit": 10000
     },
     "inputWidgets": {},
     "nuid": "9f87b5bb-6cf7-4435-abec-b3ec53bc4b0c",
     "showTitle": false,
     "title": ""
    }
   },
   "outputs": [],
   "source": [
    "user_df_stream = spark \\\n",
    ".readStream \\\n",
    ".format('kinesis') \\\n",
    ".option('streamName','streaming-124714cdee67-user') \\\n",
    ".option('initialPosition','earliest') \\\n",
    ".option('region','us-east-1') \\\n",
    ".option('awsAccessKey', ACCESS_KEY) \\\n",
    ".option('awsSecretKey', SECRET_KEY) \\\n",
    ".load()"
   ]
  },
  {
   "cell_type": "code",
   "execution_count": null,
   "metadata": {
    "application/vnd.databricks.v1+cell": {
     "cellMetadata": {
      "byteLimit": 2048000,
      "rowLimit": 10000
     },
     "inputWidgets": {},
     "nuid": "9cec23f4-73e7-4526-8933-6b5b084221f4",
     "showTitle": false,
     "title": ""
    }
   },
   "outputs": [],
   "source": [
    "display(user_df_stream)\n",
    "user_df = user_df_stream.selectExpr(\"CAST(data as STRING)\")\n",
    "display(user_df)"
   ]
  },
  {
   "cell_type": "code",
   "execution_count": null,
   "metadata": {
    "application/vnd.databricks.v1+cell": {
     "cellMetadata": {
      "byteLimit": 2048000,
      "rowLimit": 10000
     },
     "inputWidgets": {},
     "nuid": "8d209b53-f058-4e8d-829e-1965d05c283d",
     "showTitle": false,
     "title": ""
    }
   },
   "outputs": [],
   "source": [
    "user_df = user_df.select(json_tuple(col(\"data\"),\"ind\",\"first_name\", \"last_name\", \"age\", \"date_joined\")) \\\n",
    "    .toDF(\"ind\",\"first_name\", \"last_name\", \"age\", \"date_joined\")\n",
    "\n",
    "display(user_df)"
   ]
  },
  {
   "cell_type": "markdown",
   "metadata": {
    "application/vnd.databricks.v1+cell": {
     "cellMetadata": {},
     "inputWidgets": {},
     "nuid": "44f2900d-2fc1-4ced-97f2-e2b2642593f6",
     "showTitle": false,
     "title": ""
    }
   },
   "source": [
    "## Cleaning Data\n",
    "\n",
    "### Pinterest Post Data"
   ]
  },
  {
   "cell_type": "code",
   "execution_count": null,
   "metadata": {
    "application/vnd.databricks.v1+cell": {
     "cellMetadata": {
      "byteLimit": 2048000,
      "rowLimit": 10000
     },
     "inputWidgets": {},
     "nuid": "1dacd4d2-1594-4da6-89ed-dd7ba3edc2b3",
     "showTitle": false,
     "title": ""
    }
   },
   "outputs": [],
   "source": [
    "# drop dulpicate rows\n",
    "pin_df = pin_df.dropDuplicates()\n",
    "# Replacing missing entries and irrelevant data with None\n",
    "clean_pin_df = pin_df.replace({'User Info Error': None}, subset=['follower_count'])\n",
    "clean_pin_df = clean_pin_df.replace({'No description available Story format': None}, subset=['description'])\n",
    "clean_pin_df = clean_pin_df.replace({'Image src error.': None}, subset=['image_src'])\n",
    "clean_pin_df = clean_pin_df.replace({'N,o, ,T,a,g,s, ,A,v,a,i,l,a,b,l,e': None}, subset=['tag_list'])\n",
    "clean_pin_df = clean_pin_df.replace({'No Title Data Available': None}, subset=['title'])\n",
    "# Cast 'follower_count' to integer data type, but first convert any \"k\" and \"M\" to number\n",
    "clean_pin_df = clean_pin_df.withColumn(\n",
    "    \"follower_count\",\n",
    "    when(\n",
    "        col(\"follower_count\").contains(\"k\"),\n",
    "        regexp_extract(col(\"follower_count\"), \"(\\d+(.\\d+)?)\", 1).cast(DoubleType())\n",
    "        * 1000\n",
    "    )\n",
    "    .when(\n",
    "        col(\"follower_count\").contains(\"M\"),\n",
    "        regexp_extract(col(\"follower_count\"), \"(\\d+(.\\d+)?)\", 1).cast(DoubleType())\n",
    "        * 1000000\n",
    "    )\n",
    "    .otherwise(regexp_extract(col(\"follower_count\"), \"(\\d+(.\\d+)?)\", 1).cast(\"integer\"))\n",
    "    .cast(\"integer\")\n",
    ")\n",
    "# cast any numeric columns to a numeric data type \n",
    "clean_pin_df = clean_pin_df.withColumn(\"downloaded\", clean_pin_df[\"downloaded\"].cast(\"integer\")) \\\n",
    "      .withColumn(\"index\", clean_pin_df[\"index\"].cast(\"integer\"))\n",
    "      # clean save location column to contain only relative path\n",
    "clean_pin_df = clean_pin_df.withColumn(\"save_location\", regexp_replace(\"save_location\", \"Local save in \", \"\"))\n",
    "clean_pin_df = clean_pin_df.withColumnRenamed(\"index\", \"ind\")\n",
    "# reorder columns of cleaned pinterest data dataframe\n",
    "clean_pin_df = clean_pin_df.select(\"ind\", \"unique_id\", \"title\", \"description\", \"follower_count\", \"poster_name\", \"tag_list\", \"is_image_or_video\", \"image_src\", \"save_location\", \"category\")\n",
    "\n",
    "clean_pin_df.printSchema()"
   ]
  },
  {
   "cell_type": "markdown",
   "metadata": {
    "application/vnd.databricks.v1+cell": {
     "cellMetadata": {},
     "inputWidgets": {},
     "nuid": "2b450e21-854f-4a99-8ed2-e24b506a3086",
     "showTitle": false,
     "title": ""
    }
   },
   "source": [
    "### Write data to delta table\n"
   ]
  },
  {
   "cell_type": "code",
   "execution_count": null,
   "metadata": {
    "application/vnd.databricks.v1+cell": {
     "cellMetadata": {
      "byteLimit": 2048000,
      "rowLimit": 10000
     },
     "inputWidgets": {},
     "nuid": "a7af80f8-a3dd-40bc-a7d1-b31959590437",
     "showTitle": false,
     "title": ""
    }
   },
   "outputs": [],
   "source": [
    "clean_pin_df.writeStream \\\n",
    ".format(\"delta\") \\\n",
    ".option(\"checkpointLocation\", \"/mnt/data checkpoint_dir\") \\\n",
    ".outputMode(\"append\") \\\n",
    ".table(\"124714cdee67_pin_table\")"
   ]
  },
  {
   "cell_type": "markdown",
   "metadata": {
    "application/vnd.databricks.v1+cell": {
     "cellMetadata": {},
     "inputWidgets": {},
     "nuid": "7e5ca789-ca43-4eac-bbf0-72f9e30b4c63",
     "showTitle": false,
     "title": ""
    }
   },
   "source": [
    "### Geolocation Data\n"
   ]
  },
  {
   "cell_type": "code",
   "execution_count": null,
   "metadata": {
    "application/vnd.databricks.v1+cell": {
     "cellMetadata": {
      "byteLimit": 2048000,
      "rowLimit": 10000
     },
     "inputWidgets": {},
     "nuid": "76db7f0f-5bf3-4ece-b26e-3635a075d9ac",
     "showTitle": false,
     "title": ""
    }
   },
   "outputs": [],
   "source": [
    "# drop dulpicate rows\n",
    "geo_df = geo_df.dropDuplicates()\n",
    "clean_geo_df = geo_df \\\n",
    "    .withColumn(\"coordinates\", array(\"latitude\", \"longitude\")) \\\n",
    "    .drop(\"latitude\", \"longitude\") \\\n",
    "    .withColumn(\"timestamp\", col(\"timestamp\").cast(TimestampType())) \\\n",
    "    .select(\"ind\", \"country\", \"coordinates\", \"timestamp\")        "
   ]
  },
  {
   "cell_type": "code",
   "execution_count": null,
   "metadata": {
    "application/vnd.databricks.v1+cell": {
     "cellMetadata": {
      "byteLimit": 2048000,
      "rowLimit": 10000
     },
     "inputWidgets": {},
     "nuid": "e53d53ed-6237-4a19-b786-1ff766adbe46",
     "showTitle": false,
     "title": ""
    }
   },
   "outputs": [],
   "source": [
    "clean_geo_df.writeStream \\\n",
    ".format(\"delta\") \\\n",
    ".option(\"checkpointLocation\", \"/mnt/data checkpoint_dir\") \\\n",
    ".outputMode(\"append\") \\\n",
    ".table(\"124714cdee67_geo_table\")"
   ]
  },
  {
   "cell_type": "markdown",
   "metadata": {
    "application/vnd.databricks.v1+cell": {
     "cellMetadata": {},
     "inputWidgets": {},
     "nuid": "660328f9-15ac-4969-aeba-77d1ed0d22a1",
     "showTitle": false,
     "title": ""
    }
   },
   "source": [
    "### User data"
   ]
  },
  {
   "cell_type": "code",
   "execution_count": null,
   "metadata": {
    "application/vnd.databricks.v1+cell": {
     "cellMetadata": {
      "byteLimit": 2048000,
      "rowLimit": 10000
     },
     "inputWidgets": {},
     "nuid": "9b42bc24-73df-4498-83a3-749852ba00a9",
     "showTitle": false,
     "title": ""
    }
   },
   "outputs": [],
   "source": [
    "# drop dulpicate rows\n",
    "user_df = user_df.dropDuplicates()\n",
    "clean_user_df = user_df \\\n",
    "    .withColumn(\"user_name\", concat(\"first_name\",  lit(\" \"), \"last_name\")) \\\n",
    "    .drop(\"first_name\", \"last_name\") \\\n",
    "    .withColumn(\"date_joined\", col(\"date_joined\").cast(TimestampType())) \\\n",
    "    .select(\"ind\", \"user_name\", \"age\", \"date_joined\")"
   ]
  },
  {
   "cell_type": "code",
   "execution_count": null,
   "metadata": {
    "application/vnd.databricks.v1+cell": {
     "cellMetadata": {
      "byteLimit": 2048000,
      "rowLimit": 10000
     },
     "inputWidgets": {},
     "nuid": "4359c35d-3ea8-46c6-aa7d-c4a43df5ef12",
     "showTitle": false,
     "title": ""
    }
   },
   "outputs": [],
   "source": [
    "clean_user_df.writeStream \\\n",
    ".format(\"delta\") \\\n",
    ".option(\"checkpointLocation\", \"/mnt/data checkpoint_dir\") \\\n",
    ".outputMode(\"append\") \\\n",
    ".table(\"124714cdee67_user_table\")"
   ]
  }
 ],
 "metadata": {
  "application/vnd.databricks.v1+notebook": {
   "dashboards": [],
   "language": "python",
   "notebookMetadata": {
    "mostRecentlyExecutedCommandWithImplicitDF": {
     "commandId": 94294414897830,
     "dataframes": [
      "_sqldf"
     ]
    },
    "pythonIndentUnit": 4
   },
   "notebookName": "Reading and cleaning data from Kinesis Data Stream",
   "widgets": {}
  },
  "kernelspec": {
   "display_name": "amy_pinterest_env",
   "language": "python",
   "name": "python3"
  },
  "language_info": {
   "codemirror_mode": {
    "name": "ipython",
    "version": 3
   },
   "file_extension": ".py",
   "mimetype": "text/x-python",
   "name": "python",
   "nbconvert_exporter": "python",
   "pygments_lexer": "ipython3",
   "version": "3.11.7"
  }
 },
 "nbformat": 4,
 "nbformat_minor": 0
}
